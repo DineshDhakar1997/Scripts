{
  "cells": [
    {
      "cell_type": "code",
      "execution_count": null,
      "metadata": {
        "id": "aKVzn11kmW6o"
      },
      "outputs": [],
      "source": [
        "from openpyxl import Workbook\n",
        "from openpyxl import load_workbook"
      ]
    },
    {
      "cell_type": "code",
      "execution_count": null,
      "metadata": {
        "id": "eacQ2RfTmW6u"
      },
      "outputs": [],
      "source": []
    },
    {
      "cell_type": "code",
      "execution_count": null,
      "metadata": {
        "id": "V7ncFyNFmW6v"
      },
      "outputs": [],
      "source": [
        "wb = load_workbook(filename = '/Users/dineshdhakar/Downloads/File1.xlsx')"
      ]
    },
    {
      "cell_type": "code",
      "execution_count": null,
      "metadata": {
        "id": "PNxXCuuymW6v",
        "outputId": "f74eefdd-5d04-4829-a24d-df2388a29153"
      },
      "outputs": [
        {
          "name": "stdout",
          "output_type": "stream",
          "text": [
            "['R 12A', 'R 10A', 'R 7A', 'HSD & POT Water ', 'POB', 'COVID CHECKLIST', 'Daily Temperature of POB']\n"
          ]
        }
      ],
      "source": [
        "print(wb.sheetnames)"
      ]
    },
    {
      "cell_type": "code",
      "execution_count": null,
      "metadata": {
        "id": "My3CrVdimW6x"
      },
      "outputs": [],
      "source": []
    },
    {
      "cell_type": "markdown",
      "metadata": {
        "id": "NK4twUGRmW6x"
      },
      "source": [
        "1st line: Ratna Field DPR@ 01.01.2021 noted at 6:00hrs"
      ]
    },
    {
      "cell_type": "code",
      "execution_count": null,
      "metadata": {
        "id": "btFANYYTmW6z"
      },
      "outputs": [],
      "source": [
        "s1=wb[\"R 12A\"]"
      ]
    },
    {
      "cell_type": "code",
      "execution_count": null,
      "metadata": {
        "id": "uD8seKgSmW60",
        "outputId": "c4c710a3-b16c-4076-eba5-90a833fa4e7c"
      },
      "outputs": [
        {
          "data": {
            "text/plain": [
              "' 04/01/2021'"
            ]
          },
          "execution_count": 5,
          "metadata": {},
          "output_type": "execute_result"
        }
      ],
      "source": [
        "date=s1[\"C1\"].value.replace(\"Date:\",\"\")\n",
        "date"
      ]
    },
    {
      "cell_type": "code",
      "execution_count": null,
      "metadata": {
        "id": "7V8A0KoxmW64",
        "outputId": "2a8b4720-bae0-487d-8f8b-61a47ba1dc4f"
      },
      "outputs": [
        {
          "data": {
            "text/plain": [
              "'time noted @ 18:00Hrs'"
            ]
          },
          "execution_count": 6,
          "metadata": {},
          "output_type": "execute_result"
        }
      ],
      "source": [
        "time=s1[\"D1\"].value.replace(\"Reading\",\"time\")\n",
        "time"
      ]
    },
    {
      "cell_type": "code",
      "execution_count": null,
      "metadata": {
        "id": "hTt_R92zmW65"
      },
      "outputs": [],
      "source": []
    },
    {
      "cell_type": "markdown",
      "metadata": {
        "id": "CEFaQtAzmW65"
      },
      "source": [
        "Putting above data in text file"
      ]
    },
    {
      "cell_type": "code",
      "execution_count": null,
      "metadata": {
        "id": "IvvNz0MQmW66"
      },
      "outputs": [],
      "source": [
        "import re"
      ]
    },
    {
      "cell_type": "code",
      "execution_count": null,
      "metadata": {
        "id": "FLyPpjG1mW66"
      },
      "outputs": [],
      "source": [
        "name=f\"Ratna_Field{date}{time}\"\n",
        "name= re.sub('[^A-Za-z0-9]+', '', name)\n",
        "name=name+\".txt\""
      ]
    },
    {
      "cell_type": "markdown",
      "metadata": {
        "id": "zySVh-27mW67"
      },
      "source": [
        "Variable name for file"
      ]
    },
    {
      "cell_type": "code",
      "execution_count": null,
      "metadata": {
        "id": "SH0BPLyymW67"
      },
      "outputs": [],
      "source": [
        "f= open(name,\"w+\")"
      ]
    },
    {
      "cell_type": "code",
      "execution_count": null,
      "metadata": {
        "id": "h3yCbRXCmW67",
        "outputId": "a611a730-3076-4f4d-fefc-24f613482c9d"
      },
      "outputs": [
        {
          "data": {
            "text/plain": [
              "55"
            ]
          },
          "execution_count": 10,
          "metadata": {},
          "output_type": "execute_result"
        }
      ],
      "source": [
        "f.write(f\"Ratna Field DPR@ {date} {time}  \\r\\n\\n\" )"
      ]
    },
    {
      "cell_type": "markdown",
      "metadata": {
        "id": "t_HEfsmTmW68"
      },
      "source": [
        "line 2:R-12A:"
      ]
    },
    {
      "cell_type": "code",
      "execution_count": null,
      "metadata": {
        "id": "HSGo92kJmW68",
        "outputId": "90478579-b8bd-43d4-fdbd-27aad957e7b6"
      },
      "outputs": [
        {
          "data": {
            "text/plain": [
              "7"
            ]
          },
          "execution_count": 11,
          "metadata": {},
          "output_type": "execute_result"
        }
      ],
      "source": [
        "f.write(f\"R-12A \\n\" )"
      ]
    },
    {
      "cell_type": "markdown",
      "metadata": {
        "id": "jx9kyVqcmW68"
      },
      "source": [
        "line 3:HSD Stock Avl: 26.5 kl"
      ]
    },
    {
      "cell_type": "code",
      "execution_count": null,
      "metadata": {
        "id": "ZojAInvUmW68",
        "outputId": "8e9e57bf-6861-40b0-ef94-e42500cef49b"
      },
      "outputs": [
        {
          "name": "stdout",
          "output_type": "stream",
          "text": [
            "12.0\n",
            "12.0\n"
          ]
        }
      ],
      "source": [
        "new_tank_capacity=float(re.findall('\\d*\\.?\\d+',s1[\"B28\"].value)[0])\n",
        "print(new_tank_capacity)\n",
        "old_tank_capacity=float(re.findall('\\d*\\.?\\d+',s1[\"C28\"].value)[0])\n",
        "print(old_tank_capacity)\n",
        "total_capacity=new_tank_capacity+old_tank_capacity"
      ]
    },
    {
      "cell_type": "code",
      "execution_count": null,
      "metadata": {
        "id": "Ael10HDhmW68",
        "outputId": "1dc09b55-eb78-4e75-a708-a7f4758b1c83"
      },
      "outputs": [
        {
          "data": {
            "text/plain": [
              "21"
            ]
          },
          "execution_count": 13,
          "metadata": {},
          "output_type": "execute_result"
        }
      ],
      "source": [
        "f.write(f\"HSD Stock Avl: {total_capacity} \\n\" )"
      ]
    },
    {
      "cell_type": "code",
      "execution_count": null,
      "metadata": {
        "id": "tVpHeL5xmW69",
        "outputId": "a586a607-6e57-4250-f632-21dd4160d927"
      },
      "outputs": [
        {
          "name": "stdout",
          "output_type": "stream",
          "text": [
            " FTHP :-  25  Kg/cm2                                                                                 Stand by boat- GS Rohini\n"
          ]
        }
      ],
      "source": [
        "mystring=s1[\"C4\"].value\n",
        "keyword = 'Kg/cm2 '\n",
        "before_keyword, keyword, after_keyword = mystring.partition(keyword)\n",
        "print(before_keyword, keyword, after_keyword)\n",
        "after_keyword=after_keyword.strip()\n",
        "before_keyword=before_keyword.strip()\n",
        "keyword=keyword.strip()"
      ]
    },
    {
      "cell_type": "code",
      "execution_count": null,
      "metadata": {
        "id": "ZzWnQuYlmW69"
      },
      "outputs": [],
      "source": []
    },
    {
      "cell_type": "code",
      "execution_count": null,
      "metadata": {
        "id": "3FURKCvZmW6-",
        "outputId": "ecd8b3e9-8295-49e3-bd5a-11cf718ae4df"
      },
      "outputs": [
        {
          "data": {
            "text/plain": [
              "26"
            ]
          },
          "execution_count": 15,
          "metadata": {},
          "output_type": "execute_result"
        }
      ],
      "source": [
        "f.write(f\"{after_keyword} \\n\" )"
      ]
    },
    {
      "cell_type": "markdown",
      "metadata": {
        "id": "iLzLGalrmW6-"
      },
      "source": [
        "Next line"
      ]
    },
    {
      "cell_type": "code",
      "execution_count": null,
      "metadata": {
        "id": "B9AAokhsmW6-",
        "outputId": "85a1cb08-c6f2-4dee-a1f2-c4914df1e396"
      },
      "outputs": [
        {
          "data": {
            "text/plain": [
              "1"
            ]
          },
          "execution_count": 16,
          "metadata": {},
          "output_type": "execute_result"
        }
      ],
      "source": [
        "f.write(f\"\\n\" )"
      ]
    },
    {
      "cell_type": "code",
      "execution_count": null,
      "metadata": {
        "id": "HlJEQD8PmW6_",
        "outputId": "4bbb302f-f826-4199-a9a5-a22ea41f1fb0"
      },
      "outputs": [
        {
          "data": {
            "text/plain": [
              "7"
            ]
          },
          "execution_count": 17,
          "metadata": {},
          "output_type": "execute_result"
        }
      ],
      "source": [
        "f.write(f\"  W#03\\n\" )"
      ]
    },
    {
      "cell_type": "code",
      "execution_count": null,
      "metadata": {
        "id": "9vWqbxNcmW6_",
        "outputId": "f2955b6b-035f-45ca-d04f-e959aaa54d0a"
      },
      "outputs": [
        {
          "data": {
            "text/plain": [
              "20.66"
            ]
          },
          "execution_count": 18,
          "metadata": {},
          "output_type": "execute_result"
        }
      ],
      "source": [
        "line_pressure=float(re.findall('\\d*\\.?\\d+',s1[\"A4\"].value)[0])\n",
        "line_pressure"
      ]
    },
    {
      "cell_type": "code",
      "execution_count": null,
      "metadata": {
        "id": "sRpc5X8FmW7A",
        "outputId": "2904442f-2e26-4d41-f78e-82e6c1921557"
      },
      "outputs": [
        {
          "data": {
            "text/plain": [
              "21"
            ]
          },
          "execution_count": 19,
          "metadata": {},
          "output_type": "execute_result"
        }
      ],
      "source": [
        "f.write(f\"line pressure: {line_pressure}\\n\" )"
      ]
    },
    {
      "cell_type": "code",
      "execution_count": null,
      "metadata": {
        "id": "_cfkWJQemW7A",
        "outputId": "dadb409e-ec6d-4b15-fa80-abfe1ec605d6"
      },
      "outputs": [
        {
          "data": {
            "text/plain": [
              "'Choke size- 5/8\"'"
            ]
          },
          "execution_count": 20,
          "metadata": {},
          "output_type": "execute_result"
        }
      ],
      "source": [
        "FTHP=float(re.findall('\\d*\\.?\\d+',before_keyword)[0])\n",
        "FTHP\n",
        "Choke=s1[\"C5\"].value.strip()\n",
        "Choke"
      ]
    },
    {
      "cell_type": "code",
      "execution_count": null,
      "metadata": {
        "id": "9PLY_YK7mW7A",
        "outputId": "5ed5739d-c5ef-4546-bc64-d01deb152071"
      },
      "outputs": [
        {
          "data": {
            "text/plain": [
              "35"
            ]
          },
          "execution_count": 21,
          "metadata": {},
          "output_type": "execute_result"
        }
      ],
      "source": [
        "f.write(f\"FTHP- {FTHP} Ksc   {Choke}\\n\\n\" )"
      ]
    },
    {
      "cell_type": "code",
      "execution_count": null,
      "metadata": {
        "id": "63o0Xt0_mW7A",
        "outputId": "568b7b22-c3ca-494a-c904-bbdb328cb975"
      },
      "outputs": [
        {
          "data": {
            "text/plain": [
              "6"
            ]
          },
          "execution_count": 22,
          "metadata": {},
          "output_type": "execute_result"
        }
      ],
      "source": [
        "f.write(f\"R10-A\\n\" )"
      ]
    },
    {
      "cell_type": "code",
      "execution_count": null,
      "metadata": {
        "id": "wKRmnIG_mW7B"
      },
      "outputs": [],
      "source": [
        "s2=wb['R 10A']\n",
        "HSD=s2[\"G22\"].value"
      ]
    },
    {
      "cell_type": "code",
      "execution_count": null,
      "metadata": {
        "id": "EaqDQR7OmW7B",
        "outputId": "785f0f83-3d05-456b-e3bd-93be339d1b5d"
      },
      "outputs": [
        {
          "data": {
            "text/plain": [
              "21"
            ]
          },
          "execution_count": 24,
          "metadata": {},
          "output_type": "execute_result"
        }
      ],
      "source": [
        "f.write(f\"HSD Stock Avl: {HSD} Kl\\n\" )"
      ]
    },
    {
      "cell_type": "code",
      "execution_count": null,
      "metadata": {
        "id": "LjTlMmGrmW7B",
        "outputId": "12c984f9-2533-4145-a4d2-9ad6043bb4f6"
      },
      "outputs": [
        {
          "data": {
            "text/plain": [
              "26"
            ]
          },
          "execution_count": 25,
          "metadata": {},
          "output_type": "execute_result"
        }
      ],
      "source": [
        "line_press_r10A=s2[\"C2\"].value\n",
        "f.write(f\"Line Pressure- {line_press_r10A} ksc\\n\\n\" )"
      ]
    },
    {
      "cell_type": "markdown",
      "metadata": {
        "id": "N2367T6fmW7B"
      },
      "source": [
        "Well 1"
      ]
    },
    {
      "cell_type": "code",
      "execution_count": null,
      "metadata": {
        "id": "k1Uq2m1TmW7B",
        "outputId": "b522847b-5df2-4dae-8676-48af6f7bbe25"
      },
      "outputs": [
        {
          "data": {
            "text/plain": [
              "24"
            ]
          },
          "execution_count": 26,
          "metadata": {},
          "output_type": "execute_result"
        }
      ],
      "source": [
        "w=s2[\"B9\"].value\n",
        "wtype=s2[\"C9\"].value.replace(\"Producer :\",\"\")\n",
        "fthp=s2[\"F9\"].value\n",
        "choke=s2[\"E9\"].value\n",
        "f.write(f\"   W {w} ({wtype})\\n\" )\n",
        "f.write(f\"FTHP={fthp} Ksc, Choke={choke}\\n\" )"
      ]
    },
    {
      "cell_type": "markdown",
      "metadata": {
        "id": "3y5ptvfhmW7C"
      },
      "source": [
        "Well 2"
      ]
    },
    {
      "cell_type": "code",
      "execution_count": null,
      "metadata": {
        "id": "YCHJsE1WmW7C",
        "outputId": "ef712124-35b1-4e32-ed5e-7a81a55533ea"
      },
      "outputs": [
        {
          "data": {
            "text/plain": [
              "28"
            ]
          },
          "execution_count": 27,
          "metadata": {},
          "output_type": "execute_result"
        }
      ],
      "source": [
        "w=s2[\"B10\"].value\n",
        "wtype=s2[\"C10\"].value.replace(\"Producer :\",\"\")\n",
        "fthp=s2[\"F10\"].value\n",
        "choke=s2[\"E10\"].value\n",
        "f.write(f\"   W {w} ({wtype})\\n\" )\n",
        "f.write(f\"FTHP= {fthp} Ksc , Choke= {choke} \\n\" )"
      ]
    },
    {
      "cell_type": "markdown",
      "metadata": {
        "id": "tXm6MO1bmW7S"
      },
      "source": [
        "Well 3"
      ]
    },
    {
      "cell_type": "code",
      "execution_count": null,
      "metadata": {
        "id": "7iWg78bKmW7S",
        "outputId": "4e0a0694-fd5b-4a90-d2b5-b138c83ae846"
      },
      "outputs": [
        {
          "data": {
            "text/plain": [
              "28"
            ]
          },
          "execution_count": 28,
          "metadata": {},
          "output_type": "execute_result"
        }
      ],
      "source": [
        "w=s2[\"B11\"].value\n",
        "wtype=s2[\"C11\"].value.replace(\"Producer :\",\"\")\n",
        "fthp=s2[\"F11\"].value\n",
        "choke=s2[\"E11\"].value\n",
        "f.write(f\"   W {w} ({wtype})\\n\" )\n",
        "f.write(f\"FTHP= {fthp} Ksc , Choke= {choke} \\n\" )"
      ]
    },
    {
      "cell_type": "markdown",
      "metadata": {
        "id": "H_T821stmW7S"
      },
      "source": [
        "well 4"
      ]
    },
    {
      "cell_type": "code",
      "execution_count": null,
      "metadata": {
        "id": "8-QrR7sBmW7T",
        "outputId": "9e374cbc-43a2-4ba8-d81d-7d85942d4d8f"
      },
      "outputs": [
        {
          "data": {
            "text/plain": [
              "29"
            ]
          },
          "execution_count": 29,
          "metadata": {},
          "output_type": "execute_result"
        }
      ],
      "source": [
        "w=s2[\"B12\"].value\n",
        "wtype=s2[\"C12\"].value.replace(\"Producer :\",\"\")\n",
        "fthp=s2[\"F12\"].value\n",
        "choke=s2[\"E12\"].value\n",
        "f.write(f\"   W {w} ({wtype})\\n\" )\n",
        "f.write(f\"FTHP= {fthp} Ksc , Choke= {choke} \\n\\n\" )"
      ]
    },
    {
      "cell_type": "markdown",
      "metadata": {
        "id": "BMS4g5DUmW7T"
      },
      "source": [
        "next sheet"
      ]
    },
    {
      "cell_type": "code",
      "execution_count": null,
      "metadata": {
        "id": "IUMgss6WmW7T"
      },
      "outputs": [],
      "source": [
        "s3=wb[\"R 7A\"]"
      ]
    },
    {
      "cell_type": "code",
      "execution_count": null,
      "metadata": {
        "id": "gbeVJ5iWmW7T",
        "outputId": "34593f13-6b61-4ad5-e435-a372f00a18ab"
      },
      "outputs": [
        {
          "data": {
            "text/plain": [
              "5"
            ]
          },
          "execution_count": 31,
          "metadata": {},
          "output_type": "execute_result"
        }
      ],
      "source": [
        "f.write(f\"R-7A\\n\" )"
      ]
    },
    {
      "cell_type": "code",
      "execution_count": null,
      "metadata": {
        "id": "M_CU5J26mW7U"
      },
      "outputs": [],
      "source": []
    },
    {
      "cell_type": "code",
      "execution_count": null,
      "metadata": {
        "id": "Ej409nIZmW7U",
        "outputId": "fe5b3b6f-4485-40ab-da66-540c9611664b"
      },
      "outputs": [
        {
          "data": {
            "text/plain": [
              "23"
            ]
          },
          "execution_count": 32,
          "metadata": {},
          "output_type": "execute_result"
        }
      ],
      "source": [
        "hsd=s3[\"B12\"].value\n",
        "f.write(f\"HSD stock avl: {hsd} kl\\n\" )"
      ]
    },
    {
      "cell_type": "code",
      "execution_count": null,
      "metadata": {
        "id": "8Fef6W0lmW7U",
        "outputId": "6bb049e6-0969-4612-84c3-b8b563969ce1"
      },
      "outputs": [
        {
          "data": {
            "text/plain": [
              "28"
            ]
          },
          "execution_count": 33,
          "metadata": {},
          "output_type": "execute_result"
        }
      ],
      "source": [
        "Line_pressure_r07A=s2[\"C2\"].value\n",
        "f.write(f\"Line Pressure=  {Line_pressure_r07A} Ksc \\n\\n\" )"
      ]
    },
    {
      "cell_type": "code",
      "execution_count": null,
      "metadata": {
        "id": "6-321Z92mW7V",
        "outputId": "a807a9f4-213f-4056-f131-cdbf6142b23e"
      },
      "outputs": [
        {
          "name": "stdout",
          "output_type": "stream",
          "text": [
            "44.997539197075156\n"
          ]
        },
        {
          "data": {
            "text/plain": [
              "32"
            ]
          },
          "execution_count": 34,
          "metadata": {},
          "output_type": "execute_result"
        }
      ],
      "source": [
        "fthp=float(s3[\"F7\"].value)/14.223\n",
        "print(fthp)\n",
        "choke=s3[\"D7\"].value\n",
        "f.write(f\"  W#01\\n\" )\n",
        "f.write(f\"FTHP= %.2f  Ksc , Choke= {choke} \\n\"%fthp )"
      ]
    },
    {
      "cell_type": "code",
      "execution_count": null,
      "metadata": {
        "id": "1Wj0_GJ7mW7V",
        "outputId": "aadba9ba-24e7-4c70-d261-bdf9d8c3ec9d"
      },
      "outputs": [
        {
          "name": "stdout",
          "output_type": "stream",
          "text": [
            "32.69352457287492\n"
          ]
        },
        {
          "data": {
            "text/plain": [
              "32"
            ]
          },
          "execution_count": 35,
          "metadata": {},
          "output_type": "execute_result"
        }
      ],
      "source": [
        "fthp=float(s3[\"F8\"].value)/14.223\n",
        "print(fthp)\n",
        "choke=s3[\"D8\"].value\n",
        "f.write(f\"  W#02\\n\" )\n",
        "f.write(f\"FTHP= %.2f  Ksc , Choke= {choke} \\n\"%fthp )"
      ]
    },
    {
      "cell_type": "code",
      "execution_count": null,
      "metadata": {
        "id": "RQUI1LdvmW7j",
        "outputId": "0e0fa3fb-53e5-423b-c0c1-139852ca2159"
      },
      "outputs": [
        {
          "name": "stdout",
          "output_type": "stream",
          "text": [
            "54.137664346481046\n"
          ]
        },
        {
          "data": {
            "text/plain": [
              "33"
            ]
          },
          "execution_count": 36,
          "metadata": {},
          "output_type": "execute_result"
        }
      ],
      "source": [
        "fthp=float(s3[\"F9\"].value)/14.223\n",
        "print(fthp)\n",
        "choke=s3[\"D9\"].value\n",
        "f.write(f\"  W#05\\n\" )\n",
        "f.write(f\"FTHP= %.2f  Ksc , Choke= {choke} \\n\"%fthp )"
      ]
    },
    {
      "cell_type": "code",
      "execution_count": null,
      "metadata": {
        "id": "4q_zZhXWmW7j",
        "outputId": "5da902dc-4349-450c-db21-0449b5f6e86f"
      },
      "outputs": [
        {
          "name": "stdout",
          "output_type": "stream",
          "text": [
            "43.591366097166556\n"
          ]
        },
        {
          "data": {
            "text/plain": [
              "32"
            ]
          },
          "execution_count": 37,
          "metadata": {},
          "output_type": "execute_result"
        }
      ],
      "source": [
        "fthp=float(s3[\"F10\"].value)/14.223\n",
        "print(fthp)\n",
        "choke=s3[\"D10\"].value\n",
        "f.write(f\"  W#07\\n\" )\n",
        "f.write(f\"FTHP= %.2f  Ksc , Choke= {choke} \\n\"%fthp )"
      ]
    },
    {
      "cell_type": "code",
      "execution_count": null,
      "metadata": {
        "id": "lMWfK_nZmW7m"
      },
      "outputs": [],
      "source": []
    },
    {
      "cell_type": "code",
      "execution_count": null,
      "metadata": {
        "id": "G995N2YOmW7m"
      },
      "outputs": [],
      "source": [
        "f.close()"
      ]
    },
    {
      "cell_type": "code",
      "execution_count": null,
      "metadata": {
        "id": "DqFdZWDFmW7m"
      },
      "outputs": [],
      "source": []
    },
    {
      "cell_type": "code",
      "execution_count": null,
      "metadata": {
        "id": "WgJ8kF6KmW7n"
      },
      "outputs": [],
      "source": []
    }
  ],
  "metadata": {
    "kernelspec": {
      "display_name": "Python 3",
      "language": "python",
      "name": "python3"
    },
    "language_info": {
      "codemirror_mode": {
        "name": "ipython",
        "version": 3
      },
      "file_extension": ".py",
      "mimetype": "text/x-python",
      "name": "python",
      "nbconvert_exporter": "python",
      "pygments_lexer": "ipython3",
      "version": "3.8.3"
    },
    "colab": {
      "provenance": []
    }
  },
  "nbformat": 4,
  "nbformat_minor": 0
}