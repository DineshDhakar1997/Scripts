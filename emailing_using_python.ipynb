{
  "nbformat": 4,
  "nbformat_minor": 0,
  "metadata": {
    "colab": {
      "provenance": []
    },
    "kernelspec": {
      "name": "python3",
      "display_name": "Python 3"
    },
    "language_info": {
      "name": "python"
    }
  },
  "cells": [
    {
      "cell_type": "code",
      "metadata": {
        "id": "S7fAzJN9vX5H"
      },
      "source": [
        "import smtplib"
      ],
      "execution_count": null,
      "outputs": []
    },
    {
      "cell_type": "code",
      "metadata": {
        "id": "B_3yxaWXvzeF"
      },
      "source": [
        "# creates SMTP session\n",
        "s = smtplib.SMTP('smtp.gmail.com', 587)"
      ],
      "execution_count": null,
      "outputs": []
    },
    {
      "cell_type": "code",
      "metadata": {
        "colab": {
          "base_uri": "https://localhost:8080/"
        },
        "id": "FM56PxNM3ol0",
        "outputId": "632d3b14-33b2-4588-d5ce-bb59fbe891d7"
      },
      "source": [
        "# start TLS for security\n",
        "s.starttls()"
      ],
      "execution_count": null,
      "outputs": [
        {
          "output_type": "execute_result",
          "data": {
            "text/plain": [
              "(220, b'2.0.0 Ready to start TLS')"
            ]
          },
          "metadata": {
            "tags": []
          },
          "execution_count": 10
        }
      ]
    },
    {
      "cell_type": "code",
      "metadata": {
        "colab": {
          "base_uri": "https://localhost:8080/"
        },
        "id": "P14B8tym3oin",
        "outputId": "67ba5838-524f-46a0-87cd-cf6ee7631ec9"
      },
      "source": [
        "# Authentication\n",
        "s.login(\"dhakardinesh1997@gmail.com\", \"Dhakar@1997\")"
      ],
      "execution_count": null,
      "outputs": [
        {
          "output_type": "execute_result",
          "data": {
            "text/plain": [
              "(235, b'2.7.0 Accepted')"
            ]
          },
          "metadata": {
            "tags": []
          },
          "execution_count": 11
        }
      ]
    },
    {
      "cell_type": "code",
      "metadata": {
        "id": "3tDLZZxE5LD4"
      },
      "source": [
        "# message to be sent\n",
        "message = \"program has finished\""
      ],
      "execution_count": null,
      "outputs": []
    },
    {
      "cell_type": "code",
      "metadata": {
        "colab": {
          "base_uri": "https://localhost:8080/"
        },
        "id": "qpEFWjog3ofZ",
        "outputId": "2f1ab116-f1bb-4668-a7e9-7a41e6d1453e"
      },
      "source": [
        "# sending the mail\n",
        "s.sendmail(\"dhakardinesh1997@gmail.com\", \"dd24101997@gmail.com\", message)"
      ],
      "execution_count": null,
      "outputs": [
        {
          "output_type": "execute_result",
          "data": {
            "text/plain": [
              "{}"
            ]
          },
          "metadata": {
            "tags": []
          },
          "execution_count": 14
        }
      ]
    },
    {
      "cell_type": "code",
      "metadata": {
        "colab": {
          "base_uri": "https://localhost:8080/"
        },
        "id": "p6C6y6H53ocY",
        "outputId": "49bd3b92-d3e6-42e0-d645-e08df588fee4"
      },
      "source": [
        "# terminating the session\n",
        "s.quit()"
      ],
      "execution_count": null,
      "outputs": [
        {
          "output_type": "execute_result",
          "data": {
            "text/plain": [
              "(221, b'2.0.0 closing connection o36sm10422172qtd.89 - gsmtp')"
            ]
          },
          "metadata": {
            "tags": []
          },
          "execution_count": 15
        }
      ]
    },
    {
      "cell_type": "code",
      "metadata": {
        "id": "tmbuYwDd3oZI"
      },
      "source": [
        "def send_mail():\n",
        "    receiver=input(\"receiver_address\")\n",
        "    message=input(\"type the message\")\n",
        "    import smtplib\n",
        "    s = smtplib.SMTP('smtp.gmail.com', 587)\n",
        "    s.starttls()\n",
        "    s.login(\"dhakardinesh1997@gmail.com\", \"Dhakar@1997\")\n",
        "    s.sendmail(\"dhakardinesh1997@gmail.com\",receiver, message)\n",
        "    s.quit()\n",
        "send_mail()"
      ],
      "execution_count": null,
      "outputs": []
    },
    {
      "cell_type": "code",
      "metadata": {
        "colab": {
          "base_uri": "https://localhost:8080/"
        },
        "id": "-9bLhMXp3oV7",
        "outputId": "725b9f15-ec9b-4a86-cf17-276df2d699d3"
      },
      "source": [
        "send_mail()"
      ],
      "execution_count": null,
      "outputs": [
        {
          "output_type": "stream",
          "text": [
            "receiver_addressdhakardinesh1997@gmail.com\n",
            "type the messagehi used the smtp and sent another mail\n"
          ],
          "name": "stdout"
        }
      ]
    },
    {
      "cell_type": "code",
      "metadata": {
        "id": "N-OMbWj03oSy"
      },
      "source": [],
      "execution_count": null,
      "outputs": []
    }
  ]
}